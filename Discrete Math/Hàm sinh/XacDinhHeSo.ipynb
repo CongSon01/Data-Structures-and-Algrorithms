{
 "metadata": {
  "language_info": {
   "codemirror_mode": {
    "name": "ipython",
    "version": 3
   },
   "file_extension": ".py",
   "mimetype": "text/x-python",
   "name": "python",
   "nbconvert_exporter": "python",
   "pygments_lexer": "ipython3",
   "version": "3.7.5"
  },
  "orig_nbformat": 4,
  "kernelspec": {
   "name": "python3",
   "display_name": "Python 3.7.5 64-bit"
  },
  "interpreter": {
   "hash": "e2fb31f127fed1e79f709faf34890f85681c06e7e30d28a328e5c7500cdf6725"
  }
 },
 "nbformat": 4,
 "nbformat_minor": 2,
 "cells": [
  {
   "source": [
    "Xác định hệ số của X^15 trong f(x) = (x^2 + x^3 + x^4 + ...)^4"
   ],
   "cell_type": "markdown",
   "metadata": {}
  },
  {
   "source": [
    "* B1: Tách nó thành dạng (1 + x + x^2 + ...)\n",
    "* B2: (1 + x + x^2 + ...) = 1/(1-x) = (1-x)^-1\n",
    "* --> Biểu thức mới: x^8*(1-x)^-4\n",
    "* Cần tìm x^7 trong (1-x)^-4"
   ],
   "cell_type": "markdown",
   "metadata": {}
  },
  {
   "source": [
    "from sympy import *\n",
    "x = symbols('x')\n",
    "fx = (1-x)**(-4)\n",
    "fx"
   ],
   "cell_type": "code",
   "metadata": {},
   "execution_count": 5,
   "outputs": [
    {
     "output_type": "execute_result",
     "data": {
      "text/plain": [
       "(1 - x)**(-4)"
      ],
      "text/latex": "$\\displaystyle \\frac{1}{\\left(1 - x\\right)^{4}}$"
     },
     "metadata": {},
     "execution_count": 5
    }
   ]
  },
  {
   "cell_type": "code",
   "execution_count": 7,
   "metadata": {},
   "outputs": [
    {
     "output_type": "execute_result",
     "data": {
      "text/plain": [
       "1 + 4*x + 10*x**2 + 20*x**3 + 35*x**4 + 56*x**5 + 84*x**6 + 120*x**7 + O(x**8)"
      ],
      "text/latex": "$\\displaystyle 1 + 4 x + 10 x^{2} + 20 x^{3} + 35 x^{4} + 56 x^{5} + 84 x^{6} + 120 x^{7} + O\\left(x^{8}\\right)$"
     },
     "metadata": {},
     "execution_count": 7
    }
   ],
   "source": [
    "#Cách 1\n",
    "fx.series(x, 0, 8)"
   ]
  },
  {
   "cell_type": "code",
   "execution_count": 11,
   "metadata": {},
   "outputs": [
    {
     "output_type": "execute_result",
     "data": {
      "text/plain": [
       "120"
      ],
      "text/latex": "$\\displaystyle 120$"
     },
     "metadata": {},
     "execution_count": 11
    }
   ],
   "source": [
    "#Cách 2\n",
    "binomial(-4, 7)* (-1)**7"
   ]
  },
  {
   "cell_type": "code",
   "execution_count": null,
   "metadata": {},
   "outputs": [],
   "source": []
  }
 ]
}