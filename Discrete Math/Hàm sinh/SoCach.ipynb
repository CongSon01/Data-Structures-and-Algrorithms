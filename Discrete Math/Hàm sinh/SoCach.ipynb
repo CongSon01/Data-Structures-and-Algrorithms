{
 "metadata": {
  "language_info": {
   "codemirror_mode": {
    "name": "ipython",
    "version": 3
   },
   "file_extension": ".py",
   "mimetype": "text/x-python",
   "name": "python",
   "nbconvert_exporter": "python",
   "pygments_lexer": "ipython3",
   "version": "3.7.5"
  },
  "orig_nbformat": 4,
  "kernelspec": {
   "name": "python3",
   "display_name": "Python 3.7.5 64-bit"
  },
  "interpreter": {
   "hash": "e2fb31f127fed1e79f709faf34890f85681c06e7e30d28a328e5c7500cdf6725"
  }
 },
 "nbformat": 4,
 "nbformat_minor": 2,
 "cells": [
  {
   "source": [
    "Số vật chia cho mỗi người được mô tả bằng đa thức X^3 + X^4 + ... + X^8\n",
    "* Số cách chia n vật cho 4 người, n = 01,1,2,.., có hàm sinh\n",
    "* f(x) = (x^2 + x^4 + ... + x^8)^4"
   ],
   "cell_type": "markdown",
   "metadata": {}
  },
  {
   "source": [
    "Có bao nhiêu cách chia 24 vật --> cần tìm hệ số của x^24 trong f(x)"
   ],
   "cell_type": "markdown",
   "metadata": {}
  },
  {
   "cell_type": "code",
   "execution_count": 3,
   "metadata": {},
   "outputs": [
    {
     "output_type": "execute_result",
     "data": {
      "text/plain": [
       "Sum(x**i, (i, 3, 8))**4"
      ],
      "text/latex": "$\\displaystyle \\left(\\sum_{i=3}^{8} x^{i}\\right)^{4}$"
     },
     "metadata": {},
     "execution_count": 3
    }
   ],
   "source": [
    "from sympy import *\n",
    "x, i = symbols('x i')\n",
    "fx = Sum(x**(i), (i, 3, 8))**4\n",
    "fx"
   ]
  },
  {
   "source": [
    "Nhớ phải tách về dạng (1+x)^..."
   ],
   "cell_type": "markdown",
   "metadata": {}
  },
  {
   "cell_type": "code",
   "execution_count": 20,
   "metadata": {},
   "outputs": [
    {
     "output_type": "execute_result",
     "data": {
      "text/plain": [
       "x**12*Sum(x**i, (i, 0, 5))"
      ],
      "text/latex": "$\\displaystyle x^{12} \\sum_{i=0}^{5} x^{i}$"
     },
     "metadata": {},
     "execution_count": 20
    }
   ],
   "source": [
    "fx_factor = x**12*Sum(x**(i), (i, 0 , 5))\n",
    "fx_factor"
   ]
  },
  {
   "source": [
    "* THử phân tích dạng tổng quá, nhớ rằng sum luôn đi với doit()\n",
    "* Sau đó thực hiện thay vào biểu thức"
   ],
   "cell_type": "markdown",
   "metadata": {}
  },
  {
   "cell_type": "code",
   "execution_count": 21,
   "metadata": {},
   "outputs": [
    {
     "output_type": "execute_result",
     "data": {
      "text/plain": [
       "Piecewise((n + 1, Eq(x, 1)), ((1 - x**(n + 1))/(1 - x), True))"
      ],
      "text/latex": "$\\displaystyle \\begin{cases} n + 1 & \\text{for}\\: x = 1 \\\\\\frac{1 - x^{n + 1}}{1 - x} & \\text{otherwise} \\end{cases}$"
     },
     "metadata": {},
     "execution_count": 21
    }
   ],
   "source": [
    "n= symbols('n')\n",
    "(Sum(x**(i), (i, 0 , n))).doit()"
   ]
  },
  {
   "cell_type": "code",
   "execution_count": 22,
   "metadata": {},
   "outputs": [
    {
     "output_type": "stream",
     "name": "stdout",
     "text": [
      "Piecewise((n + 1, Eq(x, 1)), ((1 - x**(n + 1))/(1 - x), True))\n"
     ]
    }
   ],
   "source": [
    "print((Sum(x**(i), (i, 0 , n))).doit())"
   ]
  },
  {
   "cell_type": "code",
   "execution_count": 32,
   "metadata": {},
   "outputs": [
    {
     "output_type": "execute_result",
     "data": {
      "text/plain": [
       "x**12*(1 - x**6)**4/(1 - x)**4"
      ],
      "text/latex": "$\\displaystyle \\frac{x^{12} \\left(1 - x^{6}\\right)^{4}}{\\left(1 - x\\right)^{4}}$"
     },
     "metadata": {},
     "execution_count": 32
    }
   ],
   "source": [
    "(x**12*((1 - x**(5 + 1))/(1 - x))**4)"
   ]
  },
  {
   "cell_type": "code",
   "execution_count": 34,
   "metadata": {},
   "outputs": [
    {
     "output_type": "execute_result",
     "data": {
      "text/plain": [
       "x**12*(1 - x**6)**4/(1 - x)**4"
      ],
      "text/latex": "$\\displaystyle \\frac{x^{12} \\left(1 - x^{6}\\right)^{4}}{\\left(1 - x\\right)^{4}}$"
     },
     "metadata": {},
     "execution_count": 34
    }
   ],
   "source": [
    "f_new = x**12 * (1-x**6)**4 * (1-x)**(-4)\n",
    "f_new"
   ]
  },
  {
   "cell_type": "code",
   "execution_count": 37,
   "metadata": {},
   "outputs": [
    {
     "output_type": "execute_result",
     "data": {
      "text/plain": [
       "x**12 + 4*x**13 + 10*x**14 + 20*x**15 + 35*x**16 + 56*x**17 + 80*x**18 + 104*x**19 + 125*x**20 + 140*x**21 + 146*x**22 + 140*x**23 + 125*x**24 + O(x**25)"
      ],
      "text/latex": "$\\displaystyle x^{12} + 4 x^{13} + 10 x^{14} + 20 x^{15} + 35 x^{16} + 56 x^{17} + 80 x^{18} + 104 x^{19} + 125 x^{20} + 140 x^{21} + 146 x^{22} + 140 x^{23} + 125 x^{24} + O\\left(x^{25}\\right)$"
     },
     "metadata": {},
     "execution_count": 37
    }
   ],
   "source": [
    "f_new.series(x, 0, 25)"
   ]
  },
  {
   "cell_type": "code",
   "execution_count": 35,
   "metadata": {},
   "outputs": [
    {
     "output_type": "execute_result",
     "data": {
      "text/plain": [
       "Piecewise(((x + 1)**n, ((re(n) <= -1) & (Abs(x) < 1)) | ((Abs(x) <= 1) & (re(n) > 0)) | (Ne(x, -1) & (re(n) <= 0) & (Abs(x) <= 1) & (re(n) > -1))), (Sum(x**r*binomial(n, r), (r, 0, oo)), True))"
      ],
      "text/latex": "$\\displaystyle \\begin{cases} \\left(x + 1\\right)^{n} & \\text{for}\\: \\left(\\operatorname{re}{\\left(n\\right)} \\leq -1 \\wedge \\left|{x}\\right| < 1\\right) \\vee \\left(\\left|{x}\\right| \\leq 1 \\wedge \\operatorname{re}{\\left(n\\right)} > 0\\right) \\vee \\left(\\operatorname{re}{\\left(n\\right)} \\leq 0 \\wedge \\left|{x}\\right| \\leq 1 \\wedge \\operatorname{re}{\\left(n\\right)} > -1 \\wedge x \\neq -1\\right) \\\\\\sum_{r=0}^{\\infty} x^{r} {\\binom{n}{r}} & \\text{otherwise} \\end{cases}$"
     },
     "metadata": {},
     "execution_count": 35
    }
   ],
   "source": [
    "#Tổng quá\n",
    "r = symbols('r')\n",
    "Sum(binomial(n, r)*x**r, (r, 0, oo)).doit()"
   ]
  },
  {
   "source": [
    "đưa về công thức dạng (1-x)^n = Sum(binomial((n, r)*x**r, (r, 0, oo))\n"
   ],
   "cell_type": "markdown",
   "metadata": {}
  },
  {
   "cell_type": "code",
   "execution_count": null,
   "metadata": {},
   "outputs": [],
   "source": [
    "#Xem thêm trong vở ghi"
   ]
  }
 ]
}